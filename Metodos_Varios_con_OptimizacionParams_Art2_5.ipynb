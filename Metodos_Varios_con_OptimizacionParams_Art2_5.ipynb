{
 "cells": [
  {
   "cell_type": "markdown",
   "metadata": {},
   "source": [
    "\n",
    "# Varios métodos de predicción por departamento con optimización de parámetros\n",
    "\n",
    "*@autor: Jesús Manuel Puentes Gutiérrez*\n",
    "\n",
    "*@version: 5*\n",
    "\n",
    "*Universidad de Alcalá*\n",
    "______________________________________________\n",
    " \n",
    "\n",
    "Se generan varios algortimos predictivos para poder predecir el número estimados de días que permanecerá ingresado un paciente en un hospital en función de cada departamento hospitalario.\n",
    "\n",
    "Se utilizan diferentes algoritmos de Clasificación.\n",
    "\n",
    "\n",
    "\n",
    "______________________________________________\n"
   ]
  },
  {
   "cell_type": "markdown",
   "metadata": {},
   "source": [
    "### Librerías comunes\n",
    "\n",
    "Se deben cargar las siguientes librerías que son comunes a todos los algoritmos"
   ]
  },
  {
   "cell_type": "code",
   "execution_count": 1,
   "metadata": {},
   "outputs": [],
   "source": [
    "import csv\n",
    "import random\n",
    "import math\n",
    "import operator\n",
    "\n",
    "import numpy as np\n",
    "from matplotlib import pyplot as plt\n",
    "\n",
    "from time import time\n",
    "from scipy.stats import randint as sp_randint\n",
    "from sklearn import neighbors\n",
    "\n",
    "from sklearn.model_selection import GridSearchCV\n",
    "from sklearn.model_selection import RandomizedSearchCV"
   ]
  },
  {
   "cell_type": "markdown",
   "metadata": {},
   "source": [
    "\n",
    "### Datos\n",
    "\n",
    "Generamos la variable que contiene el archivo con los datos del departamento a analizar\n",
    "\n",
    "\n",
    "\n",
    "Nombre del departamento: **OBSTETRICS CON PATRÓN**\n"
   ]
  },
  {
   "cell_type": "code",
   "execution_count": 210,
   "metadata": {},
   "outputs": [],
   "source": [
    "dat1 = '/Users/shuli/Desktop/Universidad de Alcalá/DOCTORADO/DataSet/Data set CAR PSQ H12O/'\n",
    "dat2 = 'Dataset_por_departamentos_sin_cabecera/dep_sincab_obsEmbPT.csv'\n",
    "datos = dat1 + dat2\n",
    "\n",
    "dep = 'OBSTETRICS CON PATRÓN'"
   ]
  },
  {
   "cell_type": "markdown",
   "metadata": {},
   "source": [
    "#### Función loadDataset\n",
    "Con esta función seleccionaremos los datos de entrada de forma aleatoria"
   ]
  },
  {
   "cell_type": "code",
   "execution_count": 211,
   "metadata": {},
   "outputs": [],
   "source": [
    "def loadDataset_XX(filename, split, trainingSet=[] , testSet=[]):\n",
    "\twith open(filename) as csvfile:\n",
    "\t    lines = csv.reader(csvfile)\n",
    "\t    dataset = list(lines)\n",
    "\t    for x in range(len(dataset)-1):\n",
    "\t        for y in range(11):\n",
    "\t            dataset[x][y] = float(dataset[x][y])\n",
    "\t        if random.random() < split:\n",
    "\t            trainingSet.append(dataset[x])\n",
    "\t        else:\n",
    "\t            testSet.append(dataset[x])"
   ]
  },
  {
   "cell_type": "markdown",
   "metadata": {},
   "source": [
    "#### Función getAccuracy\n",
    "Con esta función obtenemos la precisión con la que se realizan las predicciones mediante los datos de prueba seleccionados"
   ]
  },
  {
   "cell_type": "code",
   "execution_count": 212,
   "metadata": {},
   "outputs": [],
   "source": [
    "def getAccuracy(testSet, predictions):\n",
    "\tcorrect = 0\n",
    "\tfor x in range(len(testSet)):\n",
    "\t\tif testSet[x][-1] == predictions[x]:\n",
    "\t\t\tcorrect += 1\n",
    "\treturn (correct/float(len(testSet))) * 100.0"
   ]
  },
  {
   "cell_type": "markdown",
   "metadata": {},
   "source": [
    "#### Función getAccuracy_XX\n",
    "Con esta función obtenemos la precisión con la que se realizan las predicciones para valores tipo float, mediante los datos de prueba seleccionados"
   ]
  },
  {
   "cell_type": "code",
   "execution_count": 213,
   "metadata": {},
   "outputs": [],
   "source": [
    "def getAccuracy_XX(testSet, predictions):\n",
    "\tcorrect = 0\n",
    "\tfor x in range(len(testSet)):\n",
    "\t\tif testSet[x] == predictions[x]:\n",
    "\t\t\tcorrect += 1\n",
    "\treturn (correct/float(len(testSet))) * 100.0"
   ]
  },
  {
   "cell_type": "markdown",
   "metadata": {},
   "source": [
    "#### Función getAccuracy2_XX\n",
    "\n",
    "Con esta función obtenemos la precisión con la que se realizan las predicciones para valores tipo float, mediante los datos de prueba seleccionados, teniendo en cuenta también el porcentaje de acierto cuando no es exacto el resultado."
   ]
  },
  {
   "cell_type": "code",
   "execution_count": 214,
   "metadata": {},
   "outputs": [],
   "source": [
    "def getAccuracy2_XX(testSet, predictions):\n",
    "    percent = 0.0\n",
    "    for x in range(len(testSet)):\n",
    "        if testSet[x] == predictions[x]:\n",
    "            percent = (percent + 100.0) / 2.0\n",
    "        else:\n",
    "            if testSet[x] == 0.0:\n",
    "                parcial = (predictions[x]*100.0)\n",
    "            else:\n",
    "                parcial = (predictions[x]*100.0) / testSet[x]\n",
    "            if parcial > 100.0:\n",
    "                percent2 = 100.0 - (parcial - 100.0)\n",
    "                percent = (percent + percent2) / 2.0\n",
    "            else:\n",
    "                percent = (percent + parcial) / 2.0\n",
    "    return percent"
   ]
  },
  {
   "cell_type": "markdown",
   "metadata": {},
   "source": [
    "#### Función getError_XX\n",
    "\n",
    "Con esta función obtenemos la precisión con la que se realizan las predicciones para valores tipo float, mediante los datos de prueba seleccionados, teniendo en cuenta también el porcentaje de acierto cuando no es exacto el resultado. Por lo tanto se calcula el porcentaje de error al predecir los resultados (lo que se aleja de la predicción exacta).\n",
    "\n",
    "Esta forma de calcular el porcentaje de acierto nos permite saber con más exactitud dicho porcentaje teniendo en cuenta lo que se acerca el resultado predicho al resultado real, no solo acertando exactamente el número."
   ]
  },
  {
   "cell_type": "code",
   "execution_count": 215,
   "metadata": {},
   "outputs": [],
   "source": [
    "def getError_XX(testSet, predictions):\n",
    "    percentError = 0.0\n",
    "    for x in range(len(testSet)):\n",
    "        if testSet[x] == predictions[x]:\n",
    "            percentError = (percentError + 0.0) / 2.0\n",
    "        else:\n",
    "            if testSet[x] == 0.0:\n",
    "                parcial = (predictions[x]*100.0)\n",
    "            else:\n",
    "                parcial = np.abs(100 - ((predictions[x]*100.0) / testSet[x]))\n",
    "                percentError = (percentError + parcial) / 2.0\n",
    "    return percentError"
   ]
  },
  {
   "cell_type": "markdown",
   "metadata": {},
   "source": [
    "#### Función getError2_XX\n",
    "\n",
    "Función que calcula el error de forma más exacta."
   ]
  },
  {
   "cell_type": "code",
   "execution_count": 216,
   "metadata": {},
   "outputs": [],
   "source": [
    "def getError2_XX(testSet, predictions):\n",
    "    percentError = []\n",
    "    for x in range(len(testSet)):\n",
    "        if predictions[x] < 0.0:\n",
    "            predict = 0.0\n",
    "        else:\n",
    "            predict = predictions[x]\n",
    "        if testSet[x] == predictions[x]:\n",
    "            Error = 0.0\n",
    "            percentError.append(Error)\n",
    "        else:\n",
    "            if testSet[x] == 0.0:\n",
    "                parcial = np.abs(testSet[x]-predict)*100.0\n",
    "                percentError.append(parcial)\n",
    "            else:\n",
    "                parcial = (np.abs(testSet[x]-predict)*100.0) / testSet[x]\n",
    "                percentError.append(parcial)\n",
    "    return sum(percentError)/len(percentError)"
   ]
  },
  {
   "cell_type": "markdown",
   "metadata": {},
   "source": [
    "\n",
    "### Programa principal\n",
    "\n",
    "Preparamos los datos y los cargamos de nuestro dataset preparado en un archivo tipo *csv*.\n",
    "\n",
    "Seleccionamos un **67%** de los datos para entrenamiento y el resto para prueba"
   ]
  },
  {
   "cell_type": "code",
   "execution_count": 217,
   "metadata": {},
   "outputs": [],
   "source": [
    "trainingSet=[]\n",
    "testSet=[]\n",
    "split = 0.67\n",
    "\n",
    "# Parte específica del algoritmo KNN\n",
    "n_neighbors = 15\n",
    "weights = 'distance'\n",
    "\n",
    "# En Windows\n",
    "# loadDataset(r'C:\\Users\\Chus\\Google Drive\\DOCTORADO\\DataSet\\Data set CAR PSQ H12O\\cmbd10.csv',\n",
    "#              split, trainingSet, testSet)\n",
    "\n",
    "# En Mac\n",
    "loadDataset_XX(datos, split, trainingSet, testSet)"
   ]
  },
  {
   "cell_type": "markdown",
   "metadata": {},
   "source": [
    "Mostramos como se han distribuido los datos de entrenamiento y los de prueba"
   ]
  },
  {
   "cell_type": "code",
   "execution_count": 218,
   "metadata": {},
   "outputs": [
    {
     "name": "stdout",
     "output_type": "stream",
     "text": [
      "Train set: 218\n",
      "Test set: 103\n"
     ]
    }
   ],
   "source": [
    "print ('Train set: ' + repr(len(trainingSet)))\n",
    "print ('Test set: ' + repr(len(testSet)))\n",
    "\n",
    "# Lo guardamos en variables para cuadro resumen\n",
    "entrenamiento = repr(len(trainingSet))\n",
    "pruebas       = repr(len(testSet))"
   ]
  },
  {
   "cell_type": "markdown",
   "metadata": {},
   "source": [
    "Se eligen y preparan los datos que se van a usar como entrenamiento:\n",
    "\n",
    "- Se selecciona como parte **X** (características del dataset) todas las variables menos la última\n",
    "- Se selecciona como parte **y** (clases del dataset) la última variable del dataset, que es la variable resultado"
   ]
  },
  {
   "cell_type": "code",
   "execution_count": 219,
   "metadata": {},
   "outputs": [],
   "source": [
    "X = []\n",
    "y = []\n",
    "\n",
    "for x in range(len(trainingSet)):\n",
    "    X.append(trainingSet[x][:-1])\n",
    "    \n",
    "for x in range(len(trainingSet)):\n",
    "    y.append(trainingSet[x][-1])\n",
    "\n",
    "# Caso todas edades son 0 (neonatos)\n",
    "#m = 0.0\n",
    "\n",
    "#for n in range(len(X)):\n",
    "#    if np.max(np.abs(X[n][7])) > m:\n",
    "#        m = np.max(np.abs(X[n][7]))\n",
    "\n",
    "#if m == 0.0:\n",
    "#    for n in range(len(X)):\n",
    "#        X[n][7] = 0.0000001"
   ]
  },
  {
   "cell_type": "markdown",
   "metadata": {},
   "source": [
    "Se eligen y preparan los datos que se van a usar como pruebas:\n",
    "\n",
    "- Se selecciona como parte **X_test** (características del dataset) todas las variables menos la última\n",
    "- Se selecciona como parte **y_test** (clases del dataset) la última variable del dataset. Esta variable contendrá los valores reales que deberán compararse con la variable predicha para ver su porcentaje de acierto"
   ]
  },
  {
   "cell_type": "code",
   "execution_count": 220,
   "metadata": {},
   "outputs": [],
   "source": [
    "X_test = []\n",
    "y_test = []\n",
    "\n",
    "for x in range(len(testSet)):\n",
    "    X_test.append(testSet[x][:-1])\n",
    "\n",
    "for x in range(len(testSet)):\n",
    "    y_test.append(testSet[x][-1])\n",
    "\n",
    "# Caso todas edades son 0 (neonatos)\n",
    "#m = 0.0\n",
    "\n",
    "#for n in range(len(X_test)):\n",
    "#    if np.max(np.abs(X_test[n][7])) > m:\n",
    "#        m = np.max(np.abs(X_test[n][7]))\n",
    "\n",
    "#if m == 0.0:\n",
    "#    for n in range(len(X_test)):\n",
    "#        X_test[n][7] = 0.0000001"
   ]
  },
  {
   "cell_type": "markdown",
   "metadata": {},
   "source": [
    "## Algoritmo KNN (Kneighborsclassifier) con K vecinos más cercanos - Sklearn\n",
    "\n",
    "\n",
    "### Librerías específicas del algoritmo\n",
    "\n",
    "Se debe cargar la siguiente librería adicional para trabajar con el nuevo algoritmo"
   ]
  },
  {
   "cell_type": "code",
   "execution_count": 221,
   "metadata": {},
   "outputs": [],
   "source": [
    "from sklearn.neighbors import KNeighborsClassifier"
   ]
  },
  {
   "cell_type": "markdown",
   "metadata": {},
   "source": [
    "\n",
    "### Programa principal del algoritmo seleccionado\n",
    "\n",
    "Los datos necesarios del departamento se encuentran ya cargados dentro de las listas **testSet** y **trainingSet**. Se ha seleccionado un **67%** de los datos para entrenamiento y el resto para prueba. La distribución de los registros se puede ver al principio de este documento, dentro del primer algoritmo utilizado (*KNN*).\n",
    "\n",
    "Los datos que se van a utilizar para el entrenamiento (**X** e **y**) y los que se van a utilizar para las pruebas (**X_test** e **y_test**) se reutilizan ya que no se han modificado.\n",
    "\n",
    "\n",
    "#### Algoritmo\n",
    "\n",
    "A continuación seleccionamos los mejores parámetros a utilizar para el dataset elegido.\n"
   ]
  },
  {
   "cell_type": "code",
   "execution_count": 222,
   "metadata": {},
   "outputs": [
    {
     "name": "stderr",
     "output_type": "stream",
     "text": [
      "/Users/shuli/anaconda/lib/python3.6/site-packages/sklearn/model_selection/_split.py:605: Warning: The least populated class in y has only 1 members, which is too few. The minimum number of members in any class cannot be less than n_splits=10.\n",
      "  % (min_groups, self.n_splits)), Warning)\n"
     ]
    },
    {
     "data": {
      "text/plain": [
       "GridSearchCV(cv=10, error_score='raise',\n",
       "       estimator=KNeighborsClassifier(algorithm='auto', leaf_size=30, metric='minkowski',\n",
       "           metric_params=None, n_jobs=1, n_neighbors=5, p=2,\n",
       "           weights='uniform'),\n",
       "       fit_params=None, iid=True, n_jobs=1,\n",
       "       param_grid={'n_neighbors': [1, 2, 3, 4, 5, 6, 7, 8, 9, 10, 11, 12, 13, 14, 15, 16, 17, 18, 19, 20, 21, 22, 23, 24, 25, 26, 27, 28, 29, 30], 'weights': ['uniform', 'distance']},\n",
       "       pre_dispatch='2*n_jobs', refit=True, return_train_score='warn',\n",
       "       scoring='accuracy', verbose=0)"
      ]
     },
     "execution_count": 222,
     "metadata": {},
     "output_type": "execute_result"
    }
   ],
   "source": [
    "# Definimos las opciones a elegir\n",
    "weight_options = ['uniform', 'distance']\n",
    "\n",
    "# Elegimos el número de vecinos mas óptimo\n",
    "k_range = list(range(1, 31))\n",
    "\n",
    "# Definimos el grupo de opciones\n",
    "param_grid = dict(n_neighbors=k_range, weights=weight_options)\n",
    "\n",
    "knn = KNeighborsClassifier()\n",
    "\n",
    "# Probamos todas las opciones\n",
    "grid = GridSearchCV(knn, param_grid, cv=10, scoring='accuracy')\n",
    "\n",
    "grid.fit(X, y)"
   ]
  },
  {
   "cell_type": "markdown",
   "metadata": {},
   "source": [
    "Mostramos la mejor opción encontrada"
   ]
  },
  {
   "cell_type": "code",
   "execution_count": 223,
   "metadata": {},
   "outputs": [
    {
     "data": {
      "text/plain": [
       "KNeighborsClassifier(algorithm='auto', leaf_size=30, metric='minkowski',\n",
       "           metric_params=None, n_jobs=1, n_neighbors=2, p=2,\n",
       "           weights='distance')"
      ]
     },
     "execution_count": 223,
     "metadata": {},
     "output_type": "execute_result"
    }
   ],
   "source": [
    "grid.best_estimator_\n"
   ]
  },
  {
   "cell_type": "markdown",
   "metadata": {},
   "source": [
    "Elegimos el algoritmo a utilizar y lo entrenamos"
   ]
  },
  {
   "cell_type": "code",
   "execution_count": 224,
   "metadata": {},
   "outputs": [
    {
     "data": {
      "text/plain": [
       "KNeighborsClassifier(algorithm='auto', leaf_size=30, metric='minkowski',\n",
       "           metric_params=None, n_jobs=1, n_neighbors=2, p=2,\n",
       "           weights='distance')"
      ]
     },
     "execution_count": 224,
     "metadata": {},
     "output_type": "execute_result"
    }
   ],
   "source": [
    "clf = grid.best_estimator_\n",
    "\n",
    "clf.fit(X, y)"
   ]
  },
  {
   "cell_type": "markdown",
   "metadata": {},
   "source": [
    "A continuación se predice el resultado con el algoritmo que hemos entrenado"
   ]
  },
  {
   "cell_type": "code",
   "execution_count": 225,
   "metadata": {},
   "outputs": [],
   "source": [
    "y_predicted = []\n",
    "\n",
    "y_predicted = clf.predict(X_test)"
   ]
  },
  {
   "cell_type": "markdown",
   "metadata": {},
   "source": [
    "### Resultados\n",
    "\n",
    "\n",
    "Se comparan los resultados reales (*y_test*) con los que hemos predicho y se muestra la precisión real del algoritmo "
   ]
  },
  {
   "cell_type": "code",
   "execution_count": 226,
   "metadata": {},
   "outputs": [
    {
     "name": "stdout",
     "output_type": "stream",
     "text": [
      "Accuracy (aciertos)        : 29.126213592233007%\n",
      "Accuracy2                  : 64.076781523738788%\n",
      "Accuracy3 (dif. con Error2): 62.384805054707947%\n",
      "Error                      : 35.923218476261205%\n",
      "Error2                     : 37.615194945292053%\n"
     ]
    }
   ],
   "source": [
    "accuracyKNN = getAccuracy_XX(y_test, y_predicted)\n",
    "accuracy2KNN = getAccuracy2_XX(y_test, y_predicted)\n",
    "errorKNN = getError_XX(y_test, y_predicted)\n",
    "error2KNN = getError2_XX(y_test, y_predicted)\n",
    "accuracy3KNN = 100 - error2KNN\n",
    "\n",
    "print('Accuracy (aciertos)        : ' + repr(accuracyKNN) + '%')\n",
    "print('Accuracy2                  : ' + repr(accuracy2KNN) + '%')\n",
    "print('Accuracy3 (dif. con Error2): ' + repr(accuracy3KNN) + '%')\n",
    "print('Error                      : ' + repr(errorKNN) + '%')\n",
    "print('Error2                     : ' + repr(error2KNN) + '%')"
   ]
  },
  {
   "cell_type": "markdown",
   "metadata": {},
   "source": [
    "## SVM ( SUPPORT VECTOR MACHINE ) CON KERNEL RBF\n",
    "\n",
    "\n",
    "### Librerías específicas del algoritmo\n",
    "\n",
    "Se debe cargar la siguiente librería adicional para trabajar con el nuevo algoritmo"
   ]
  },
  {
   "cell_type": "code",
   "execution_count": 227,
   "metadata": {},
   "outputs": [],
   "source": [
    "from sklearn.svm import SVC"
   ]
  },
  {
   "cell_type": "markdown",
   "metadata": {},
   "source": [
    "\n",
    "### Programa principal del algoritmo seleccionado\n",
    "\n",
    "Los datos necesarios del departamento se encuentran ya cargados dentro de las listas **testSet** y **trainingSet**. Se ha seleccionado un **67%** de los datos para entrenamiento y el resto para prueba. La distribución de los registros se puede ver al principio de este documento, dentro del primer algoritmo utilizado (*KNN*).\n",
    "\n",
    "Los datos que se van a utilizar para el entrenamiento (**X** e **y**) y los que se van a utilizar para las pruebas (**X_test** e **y_test**) se reutilizan ya que no se han modificado.\n",
    "\n",
    "\n",
    "#### Algoritmo\n",
    "\n",
    "A continuación seleccionamos los mejores parámetros a utilizar para el dataset elegido.\n"
   ]
  },
  {
   "cell_type": "code",
   "execution_count": 228,
   "metadata": {},
   "outputs": [
    {
     "name": "stderr",
     "output_type": "stream",
     "text": [
      "/Users/shuli/anaconda/lib/python3.6/site-packages/sklearn/model_selection/_split.py:605: Warning: The least populated class in y has only 1 members, which is too few. The minimum number of members in any class cannot be less than n_splits=5.\n",
      "  % (min_groups, self.n_splits)), Warning)\n"
     ]
    },
    {
     "data": {
      "text/plain": [
       "GridSearchCV(cv=5, error_score='raise',\n",
       "       estimator=SVC(C=1.0, cache_size=200, class_weight=None, coef0=0.0,\n",
       "  decision_function_shape='ovr', degree=3, gamma='auto', kernel='rbf',\n",
       "  max_iter=-1, probability=False, random_state=None, shrinking=True,\n",
       "  tol=0.001, verbose=False),\n",
       "       fit_params=None, iid=True, n_jobs=1,\n",
       "       param_grid={'C': [0.001, 0.01, 0.1, 1, 10], 'gamma': [0.001, 0.01, 0.1, 1]},\n",
       "       pre_dispatch='2*n_jobs', refit=True, return_train_score='warn',\n",
       "       scoring=None, verbose=0)"
      ]
     },
     "execution_count": 228,
     "metadata": {},
     "output_type": "execute_result"
    }
   ],
   "source": [
    "# Seleccionamos rangos de valores a optimizar\n",
    "Cs = [0.001, 0.01, 0.1, 1, 10]\n",
    "gammas = [0.001, 0.01, 0.1, 1]\n",
    "\n",
    "param_grid = {'C': Cs, 'gamma' : gammas}\n",
    "\n",
    "# Definimos el grupo de opciones\n",
    "grid_search = GridSearchCV(SVC(kernel='rbf'), param_grid, cv=5)\n",
    "\n",
    "grid_search.fit(X,y)\n"
   ]
  },
  {
   "cell_type": "markdown",
   "metadata": {},
   "source": [
    "Mostramos la mejor opción encontrada"
   ]
  },
  {
   "cell_type": "code",
   "execution_count": 229,
   "metadata": {},
   "outputs": [
    {
     "data": {
      "text/plain": [
       "SVC(C=0.001, cache_size=200, class_weight=None, coef0=0.0,\n",
       "  decision_function_shape='ovr', degree=3, gamma=1, kernel='rbf',\n",
       "  max_iter=-1, probability=False, random_state=None, shrinking=True,\n",
       "  tol=0.001, verbose=False)"
      ]
     },
     "execution_count": 229,
     "metadata": {},
     "output_type": "execute_result"
    }
   ],
   "source": [
    "grid_search.best_estimator_"
   ]
  },
  {
   "cell_type": "markdown",
   "metadata": {},
   "source": [
    "Elegimos el algoritmo a utilizar y lo entrenamos"
   ]
  },
  {
   "cell_type": "code",
   "execution_count": 230,
   "metadata": {},
   "outputs": [
    {
     "data": {
      "text/plain": [
       "SVC(C=0.001, cache_size=200, class_weight=None, coef0=0.0,\n",
       "  decision_function_shape='ovr', degree=3, gamma=1, kernel='rbf',\n",
       "  max_iter=-1, probability=False, random_state=None, shrinking=True,\n",
       "  tol=0.001, verbose=False)"
      ]
     },
     "execution_count": 230,
     "metadata": {},
     "output_type": "execute_result"
    }
   ],
   "source": [
    "rbf_svc = grid_search.best_estimator_\n",
    "\n",
    "rbf_svc.fit(X, y)"
   ]
  },
  {
   "cell_type": "markdown",
   "metadata": {},
   "source": [
    "A continuación se predice el resultado con el algoritmo que hemos entrenado"
   ]
  },
  {
   "cell_type": "code",
   "execution_count": 231,
   "metadata": {},
   "outputs": [],
   "source": [
    "y_predicted = []\n",
    "\n",
    "y_predicted = rbf_svc.predict(X_test)"
   ]
  },
  {
   "cell_type": "markdown",
   "metadata": {},
   "source": [
    "### Resultados\n",
    "\n",
    "\n",
    "Se comparan los resultados reales (*y_test*) con los que hemos predicho y se muestra la precisión real del algoritmo "
   ]
  },
  {
   "cell_type": "code",
   "execution_count": 232,
   "metadata": {},
   "outputs": [
    {
     "name": "stdout",
     "output_type": "stream",
     "text": [
      "Accuracy (aciertos)        : 31.06796116504854%\n",
      "Accuracy2                  : 50.469134772998828%\n",
      "Accuracy3 (dif. con Error2): 71.431653567575893%\n",
      "Error                      : 49.530865227001172%\n",
      "Error2                     : 28.568346432424111%\n"
     ]
    }
   ],
   "source": [
    "accuracyRBF = getAccuracy_XX(y_test, y_predicted)\n",
    "accuracy2RBF = getAccuracy2_XX(y_test, y_predicted)\n",
    "errorRBF = getError_XX(y_test, y_predicted)\n",
    "error2RBF = getError2_XX(y_test, y_predicted)\n",
    "accuracy3RBF = 100 - error2RBF\n",
    "\n",
    "print('Accuracy (aciertos)        : ' + repr(accuracyRBF) + '%')\n",
    "print('Accuracy2                  : ' + repr(accuracy2RBF) + '%')\n",
    "print('Accuracy3 (dif. con Error2): ' + repr(accuracy3RBF) + '%')\n",
    "print('Error                      : ' + repr(errorRBF) + '%')\n",
    "print('Error2                     : ' + repr(error2RBF) + '%')"
   ]
  },
  {
   "cell_type": "markdown",
   "metadata": {},
   "source": [
    "\n",
    "## RANDOM FOREST\n",
    "\n"
   ]
  },
  {
   "cell_type": "markdown",
   "metadata": {},
   "source": [
    "\n",
    "### Librerías específicas del algoritmo\n",
    "\n",
    "Se debe cargar la siguiente librería adicional para trabajar el nuevo algoritmo\n",
    "\n"
   ]
  },
  {
   "cell_type": "code",
   "execution_count": 233,
   "metadata": {},
   "outputs": [],
   "source": [
    "from sklearn.ensemble import RandomForestClassifier"
   ]
  },
  {
   "cell_type": "markdown",
   "metadata": {},
   "source": [
    "#### Función específica report\n",
    "\n",
    "Función utilizada para mostrar los mejores resultados a nivel eficiencia en el algoritmo **Random Forest**."
   ]
  },
  {
   "cell_type": "code",
   "execution_count": 234,
   "metadata": {},
   "outputs": [],
   "source": [
    "def report(results, n_top=3):\n",
    "    for i in range(1, n_top + 1):\n",
    "        candidates = np.flatnonzero(results['rank_test_score'] == i)\n",
    "        for candidate in candidates:\n",
    "            print(\"Model with rank: {0}\".format(i))\n",
    "            print(\"Mean validation score: {0:.3f} (std: {1:.3f})\".format(\n",
    "                  results['mean_test_score'][candidate],\n",
    "                  results['std_test_score'][candidate]))\n",
    "            print(\"Parameters: {0}\".format(results['params'][candidate]))\n",
    "            print(\"\")"
   ]
  },
  {
   "cell_type": "markdown",
   "metadata": {},
   "source": [
    "\n",
    "### Programa principal del algoritmo seleccionado\n",
    "\n",
    "Los datos necesarios del departamento se encuentran ya cargados dentro de las listas **testSet** y **trainingSet**. Se ha seleccionado un **67%** de los datos para entrenamiento y el resto para prueba. La distribución de los registros se puede ver al principio de este documento, dentro del primer algoritmo utilizado (*KNN*).\n",
    "\n",
    "Los datos que se van a utilizar para el entrenamiento (**X** e **y**) y los que se van a utilizar para las pruebas (**X_test** e **y_test**) se reutilizan ya que no se han modificado.\n",
    "\n",
    "\n",
    "#### Algoritmo\n",
    "\n",
    "A continuación seleccionamos los mejores parámetros a utilizar para el dataset elegido.\n"
   ]
  },
  {
   "cell_type": "code",
   "execution_count": 235,
   "metadata": {},
   "outputs": [
    {
     "name": "stderr",
     "output_type": "stream",
     "text": [
      "/Users/shuli/anaconda/lib/python3.6/site-packages/sklearn/model_selection/_split.py:605: Warning: The least populated class in y has only 1 members, which is too few. The minimum number of members in any class cannot be less than n_splits=5.\n",
      "  % (min_groups, self.n_splits)), Warning)\n"
     ]
    },
    {
     "name": "stdout",
     "output_type": "stream",
     "text": [
      "RandomizedSearchCV duró 4.51 segundos para 20 ajustes del parámtro candidato.\n",
      "Model with rank: 1\n",
      "Mean validation score: 0.472 (std: 0.048)\n",
      "Parameters: {'bootstrap': True, 'criterion': 'gini', 'max_depth': 3, 'max_features': 7, 'min_samples_split': 8}\n",
      "\n",
      "Model with rank: 2\n",
      "Mean validation score: 0.463 (std: 0.051)\n",
      "Parameters: {'bootstrap': True, 'criterion': 'entropy', 'max_depth': 3, 'max_features': 9, 'min_samples_split': 10}\n",
      "\n",
      "Model with rank: 3\n",
      "Mean validation score: 0.459 (std: 0.059)\n",
      "Parameters: {'bootstrap': True, 'criterion': 'entropy', 'max_depth': 3, 'max_features': 2, 'min_samples_split': 2}\n",
      "\n"
     ]
    },
    {
     "name": "stderr",
     "output_type": "stream",
     "text": [
      "/Users/shuli/anaconda/lib/python3.6/site-packages/sklearn/model_selection/_split.py:605: Warning: The least populated class in y has only 1 members, which is too few. The minimum number of members in any class cannot be less than n_splits=5.\n",
      "  % (min_groups, self.n_splits)), Warning)\n"
     ]
    },
    {
     "name": "stdout",
     "output_type": "stream",
     "text": [
      "GridSearchCV duró 15.98 segundos para 72 ajustes del parámetro candidato.\n",
      "Model with rank: 1\n",
      "Mean validation score: 0.491 (std: 0.052)\n",
      "Parameters: {'bootstrap': True, 'criterion': 'entropy', 'max_depth': 3, 'max_features': 10, 'min_samples_split': 10}\n",
      "\n",
      "Model with rank: 2\n",
      "Mean validation score: 0.486 (std: 0.038)\n",
      "Parameters: {'bootstrap': True, 'criterion': 'entropy', 'max_depth': 3, 'max_features': 1, 'min_samples_split': 10}\n",
      "\n",
      "Model with rank: 3\n",
      "Mean validation score: 0.482 (std: 0.079)\n",
      "Parameters: {'bootstrap': True, 'criterion': 'entropy', 'max_depth': None, 'max_features': 1, 'min_samples_split': 10}\n",
      "\n",
      "Model with rank: 3\n",
      "Mean validation score: 0.482 (std: 0.055)\n",
      "Parameters: {'bootstrap': False, 'criterion': 'gini', 'max_depth': 3, 'max_features': 3, 'min_samples_split': 3}\n",
      "\n"
     ]
    }
   ],
   "source": [
    "rf = RandomForestClassifier(n_estimators=20)\n",
    "\n",
    "# especificamos los parámetros y distribuciones desde las que muestrear\n",
    "param_dist = {\"max_depth\": [3, None],\n",
    "              \"max_features\": sp_randint(1, 11),\n",
    "              \"min_samples_split\": sp_randint(2, 11),\n",
    "              \"bootstrap\": [True, False],\n",
    "              \"criterion\": [\"gini\", \"entropy\"]}\n",
    "\n",
    "# ejecutamos una búsqueda aleatoria\n",
    "n_iter_search = 20\n",
    "random_search = RandomizedSearchCV(rf, param_distributions=param_dist,\n",
    "                                   n_iter=n_iter_search, cv=5)\n",
    "\n",
    "\n",
    "start = time()\n",
    "random_search.fit(X, y)\n",
    "print(\"RandomizedSearchCV duró %.2f segundos para %d ajustes\"\n",
    "      \" del parámtro candidato.\" % ((time() - start), n_iter_search))\n",
    "report(random_search.cv_results_)\n",
    "\n",
    "# use a full grid over all parameters\n",
    "param_grid = {\"max_depth\": [3, None],\n",
    "              \"max_features\": [1, 3, 10],\n",
    "              \"min_samples_split\": [2, 3, 10],\n",
    "              \"bootstrap\": [True, False],\n",
    "              \"criterion\": [\"gini\", \"entropy\"]}\n",
    "\n",
    "# run grid search\n",
    "grid_search = GridSearchCV(rf, param_grid=param_grid, cv=5)\n",
    "start = time()\n",
    "grid_search.fit(X, y)\n",
    "\n",
    "print(\"GridSearchCV duró %.2f segundos para %d ajustes del parámetro candidato.\"\n",
    "      % (time() - start, len(grid_search.cv_results_['params'])))\n",
    "report(grid_search.cv_results_)\n",
    "\n",
    "#rf.fit(X, y)"
   ]
  },
  {
   "cell_type": "markdown",
   "metadata": {},
   "source": [
    "#### Algoritmo\n",
    "\n",
    "Elegimos el algoritmo a utilizar con los parámetros encontrados y lo entrenamos."
   ]
  },
  {
   "cell_type": "code",
   "execution_count": 236,
   "metadata": {},
   "outputs": [
    {
     "data": {
      "text/plain": [
       "RandomForestClassifier(bootstrap=True, class_weight=None, criterion='gini',\n",
       "            max_depth=3, max_features=7, max_leaf_nodes=None,\n",
       "            min_impurity_decrease=0.0, min_impurity_split=None,\n",
       "            min_samples_leaf=1, min_samples_split=8,\n",
       "            min_weight_fraction_leaf=0.0, n_estimators=20, n_jobs=1,\n",
       "            oob_score=False, random_state=None, verbose=0,\n",
       "            warm_start=False)"
      ]
     },
     "execution_count": 236,
     "metadata": {},
     "output_type": "execute_result"
    }
   ],
   "source": [
    "rf = random_search.best_estimator_\n",
    "\n",
    "#rf = RandomForestClassifier(n_estimators=20, bootstrap='False', criterion='gini', max_depth=3, max_features=1, min_samples_split=10)\n",
    "\n",
    "rf.fit(X, y)"
   ]
  },
  {
   "cell_type": "markdown",
   "metadata": {},
   "source": [
    "A continuación se predice el resultado con el algoritmo que hemos entrenado"
   ]
  },
  {
   "cell_type": "code",
   "execution_count": 237,
   "metadata": {},
   "outputs": [],
   "source": [
    "y_predicted = []\n",
    "\n",
    "y_predicted = rf.predict(X_test)"
   ]
  },
  {
   "cell_type": "markdown",
   "metadata": {},
   "source": [
    "\n",
    "### Resultados\n",
    "\n",
    "\n",
    "Se comparan los resultados reales (*y_test*) con los que hemos predicho y se muestra la precisión real del algoritmo\n"
   ]
  },
  {
   "cell_type": "code",
   "execution_count": 238,
   "metadata": {},
   "outputs": [
    {
     "name": "stdout",
     "output_type": "stream",
     "text": [
      "Accuracy (aciertos)        : 40.77669902912621%\n",
      "Accuracy2                  : 73.067283229261307%\n",
      "Accuracy3 (dif. con Error2): 78.792572044999233%\n",
      "Error                      : 26.932716770738701%\n",
      "Error2                     : 21.207427955000764%\n"
     ]
    }
   ],
   "source": [
    "accuracyRF = getAccuracy_XX(y_test, y_predicted)\n",
    "accuracy2RF = getAccuracy2_XX(y_test, y_predicted)\n",
    "errorRF = getError_XX(y_test, y_predicted)\n",
    "error2RF = getError2_XX(y_test, y_predicted)\n",
    "accuracy3RF = 100 - error2RF\n",
    "\n",
    "print('Accuracy (aciertos)        : ' + repr(accuracyRF) + '%')\n",
    "print('Accuracy2                  : ' + repr(accuracy2RF) + '%')\n",
    "print('Accuracy3 (dif. con Error2): ' + repr(accuracy3RF) + '%')\n",
    "print('Error                      : ' + repr(errorRF) + '%')\n",
    "print('Error2                     : ' + repr(error2RF) + '%')\n"
   ]
  },
  {
   "cell_type": "markdown",
   "metadata": {},
   "source": [
    "\n",
    "## ÁRBOLES DE DECISIÓN\n",
    "\n",
    "\n",
    "### Librerías específicas del algoritmo\n",
    "\n",
    "Se deben cargar las siguientes librerías adicionales para trabajar el nuevo algoritmo\n",
    "\n"
   ]
  },
  {
   "cell_type": "code",
   "execution_count": 239,
   "metadata": {},
   "outputs": [],
   "source": [
    "from sklearn.tree import DecisionTreeClassifier\n",
    "from sklearn import tree"
   ]
  },
  {
   "cell_type": "markdown",
   "metadata": {},
   "source": [
    "### Programa principal del algoritmo seleccionado\n",
    "\n",
    "Los datos necesarios del departamento se encuentran ya cargados dentro de las listas **testSet** y **trainingSet**. Se ha seleccionado un **67%** de los datos para entrenamiento y el resto para prueba. La distribución de los registros se puede ver al principio de este documento, dentro del primer algoritmo utilizado (*KNN*).\n",
    "\n",
    "Los datos que se van a utilizar para el entrenamiento (**X** e **y**) y los que se van a utilizar para las pruebas (**X_test** e **y_test**) se reutilizan ya que no se han modificado.\n",
    "\n",
    "\n",
    "#### Algoritmo\n",
    "\n",
    "A continuación seleccionamos los mejores parámetros a utilizar para el dataset elegido."
   ]
  },
  {
   "cell_type": "code",
   "execution_count": 240,
   "metadata": {},
   "outputs": [
    {
     "name": "stderr",
     "output_type": "stream",
     "text": [
      "/Users/shuli/anaconda/lib/python3.6/site-packages/sklearn/model_selection/_split.py:605: Warning: The least populated class in y has only 1 members, which is too few. The minimum number of members in any class cannot be less than n_splits=3.\n",
      "  % (min_groups, self.n_splits)), Warning)\n"
     ]
    },
    {
     "data": {
      "text/plain": [
       "GridSearchCV(cv=None, error_score='raise',\n",
       "       estimator=DecisionTreeClassifier(class_weight=None, criterion='gini', max_depth=None,\n",
       "            max_features=None, max_leaf_nodes=None,\n",
       "            min_impurity_decrease=0.0, min_impurity_split=None,\n",
       "            min_samples_leaf=1, min_samples_split=2,\n",
       "            min_weight_fraction_leaf=0.0, presort=False, random_state=None,\n",
       "            splitter='best'),\n",
       "       fit_params=None, iid=True, n_jobs=1,\n",
       "       param_grid={'criterion': ['gini', 'entropy'], 'min_samples_split': range(2, 500, 10), 'max_depth': range(1, 120, 2), 'min_samples_leaf': [1, 5, 10], 'max_leaf_nodes': [None, 5, 10, 20]},\n",
       "       pre_dispatch='2*n_jobs', refit=True, return_train_score='warn',\n",
       "       scoring=None, verbose=0)"
      ]
     },
     "execution_count": 240,
     "metadata": {},
     "output_type": "execute_result"
    }
   ],
   "source": [
    "# Se seleccionarán los mejores parámetros\n",
    "parameters={'criterion': ['gini','entropy'], 'min_samples_split' : range(2,500,10),'max_depth': range(1,120,2),\n",
    "            'min_samples_leaf': [1, 5, 10], 'max_leaf_nodes': [None, 5, 10, 20]}\n",
    "\n",
    "clf_tree=DecisionTreeClassifier()\n",
    "\n",
    "# buscamos la mejor opción\n",
    "clf=GridSearchCV(clf_tree,parameters)\n",
    "\n",
    "clf.fit(X,y)\n"
   ]
  },
  {
   "cell_type": "markdown",
   "metadata": {},
   "source": [
    "Mostramos la mejor opción encontrada"
   ]
  },
  {
   "cell_type": "code",
   "execution_count": 241,
   "metadata": {},
   "outputs": [
    {
     "data": {
      "text/plain": [
       "DecisionTreeClassifier(class_weight=None, criterion='entropy', max_depth=1,\n",
       "            max_features=None, max_leaf_nodes=None,\n",
       "            min_impurity_decrease=0.0, min_impurity_split=None,\n",
       "            min_samples_leaf=1, min_samples_split=22,\n",
       "            min_weight_fraction_leaf=0.0, presort=False, random_state=None,\n",
       "            splitter='best')"
      ]
     },
     "execution_count": 241,
     "metadata": {},
     "output_type": "execute_result"
    }
   ],
   "source": [
    "clf.best_estimator_\n"
   ]
  },
  {
   "cell_type": "markdown",
   "metadata": {},
   "source": [
    "#### Algoritmo\n",
    "\n",
    "Elegimos el algoritmo a utilizar con los parámetros encontrados y lo entrenamos."
   ]
  },
  {
   "cell_type": "code",
   "execution_count": 242,
   "metadata": {},
   "outputs": [
    {
     "data": {
      "text/plain": [
       "DecisionTreeClassifier(class_weight=None, criterion='entropy', max_depth=1,\n",
       "            max_features=None, max_leaf_nodes=None,\n",
       "            min_impurity_decrease=0.0, min_impurity_split=None,\n",
       "            min_samples_leaf=1, min_samples_split=22,\n",
       "            min_weight_fraction_leaf=0.0, presort=False, random_state=None,\n",
       "            splitter='best')"
      ]
     },
     "execution_count": 242,
     "metadata": {},
     "output_type": "execute_result"
    }
   ],
   "source": [
    "ad = clf.best_estimator_\n",
    "\n",
    "ad.fit(X, y)"
   ]
  },
  {
   "cell_type": "markdown",
   "metadata": {},
   "source": [
    "\n",
    "Verificamos la precisión del modelo\n"
   ]
  },
  {
   "cell_type": "code",
   "execution_count": 243,
   "metadata": {},
   "outputs": [
    {
     "name": "stdout",
     "output_type": "stream",
     "text": [
      "Precisión del modelo:  0.41\n"
     ]
    }
   ],
   "source": [
    "print(\"Precisión del modelo: {0: .2f}\".format((y_test == ad.predict(X_test)).mean()))"
   ]
  },
  {
   "cell_type": "markdown",
   "metadata": {},
   "source": [
    "A continuación se predice el resultado con el algoritmo que hemos entrenado"
   ]
  },
  {
   "cell_type": "code",
   "execution_count": 244,
   "metadata": {},
   "outputs": [],
   "source": [
    "y_predicted = []\n",
    "\n",
    "y_predicted = ad.predict(X_test)"
   ]
  },
  {
   "cell_type": "markdown",
   "metadata": {},
   "source": [
    "### Resultados\n",
    "\n",
    "\n",
    "Se comparan los resultados reales (*y_test*) con los que hemos predicho y se muestra la precisión real del algoritmo"
   ]
  },
  {
   "cell_type": "code",
   "execution_count": 245,
   "metadata": {},
   "outputs": [
    {
     "name": "stdout",
     "output_type": "stream",
     "text": [
      "Accuracy (aciertos)        : 40.77669902912621%\n",
      "Accuracy2                  : 85.567019941214909%\n",
      "Accuracy3 (dif. con Error2): 78.378794883649263%\n",
      "Error                      : 14.432980058785088%\n",
      "Error2                     : 21.621205116350737%\n"
     ]
    }
   ],
   "source": [
    "accuracyAD = getAccuracy_XX(y_test, y_predicted)\n",
    "accuracy2AD = getAccuracy2_XX(y_test, y_predicted)\n",
    "errorAD = getError_XX(y_test, y_predicted)\n",
    "error2AD = getError2_XX(y_test, y_predicted)\n",
    "accuracy3AD = 100 - error2AD\n",
    "\n",
    "print('Accuracy (aciertos)        : ' + repr(accuracyAD) + '%')\n",
    "print('Accuracy2                  : ' + repr(accuracy2AD) + '%')\n",
    "print('Accuracy3 (dif. con Error2): ' + repr(accuracy3AD) + '%')\n",
    "print('Error                      : ' + repr(errorAD) + '%')\n",
    "print('Error2                     : ' + repr(error2AD) + '%')"
   ]
  },
  {
   "cell_type": "markdown",
   "metadata": {},
   "source": [
    "## Cuadro Resumen"
   ]
  },
  {
   "cell_type": "code",
   "execution_count": 246,
   "metadata": {},
   "outputs": [
    {
     "name": "stdout",
     "output_type": "stream",
     "text": [
      "_______________________\n",
      "\n",
      "Nombre del Departamento: OBSTETRICS CON PATRÓN\n",
      "_______________________\n",
      "\n",
      "NÚMERO DE CASOS PARA ENTRENAMIENTO (67%) Y PARA PRUEBAS (33%):\n",
      "\n",
      "   Entrenamiento: 218\n",
      "   Pruebas      : 103\n",
      "\n",
      "_______________________\n",
      "\n",
      "PORCENTAJES DE ACIERTO EXACTOS:\n",
      "\n",
      "KNN con K vecinos más cercanos         :  29,126213592233007 %\n",
      "SVM con Kernel RBF                     :  31,06796116504854 %\n",
      "Árboles de Decisión                    :  40,77669902912621 %\n",
      "Random Forest                          :  40,77669902912621 %\n",
      "\n",
      "\n",
      "_______________________\n",
      "\n",
      "PORCENTAJES DE ACIERTO3 (Diferencia con Error2 - con acercamiento):\n",
      "\n",
      "KNN con K vecinos más cercanos         :  62,384805054707947 %\n",
      "SVM con Kernel RBF                     :  71,431653567575893 %\n",
      "Árboles de Decisión                    :  78,378794883649263 %\n",
      "Random Forest                          :  78,792572044999233 %\n",
      "\n",
      "\n",
      "_______________________\n",
      "\n",
      "PORCENTAJES DE ERROR2 (con acercamiento):\n",
      "\n",
      "KNN con K vecinos más cercanos         :  37,615194945292053 %\n",
      "SVM con Kernel RBF                     :  28,568346432424111 %\n",
      "Árboles de Decisión                    :  21,621205116350737 %\n",
      "Random Forest                          :  21,207427955000764 %\n",
      "\n",
      "_______________________\n",
      "\n"
     ]
    }
   ],
   "source": [
    "p = '.'\n",
    "c = ','\n",
    "\n",
    "print ('_______________________')\n",
    "print ()\n",
    "print ('Nombre del Departamento:', dep)\n",
    "print ('_______________________')\n",
    "print ()\n",
    "print ('NÚMERO DE CASOS PARA ENTRENAMIENTO (67%) Y PARA PRUEBAS (33%):')\n",
    "print ()\n",
    "print ('   Entrenamiento:', entrenamiento)\n",
    "print ('   Pruebas      :', pruebas)\n",
    "print ()\n",
    "print ('_______________________')\n",
    "print ()\n",
    "print ('PORCENTAJES DE ACIERTO EXACTOS:')\n",
    "print ()\n",
    "print ('KNN con K vecinos más cercanos         :  ' + repr(accuracyKNN).replace(p,c) + ' %')\n",
    "#print ('SVM con Kernel polinomial Grado 4      :  ' + repr(accuracyPOL).replace(p,c) + ' %')\n",
    "print ('SVM con Kernel RBF                     :  ' + repr(accuracyRBF).replace(p,c) + ' %')\n",
    "#print ('SVM - SVC No Lineal                    :  ' + repr(accuracyNL).replace(p,c) + ' %')\n",
    "#print ('SVM - SVC Lineal                       :  ' + repr(accuracyLN).replace(p,c) + ' %')\n",
    "#print ('SVM - SVC Naïve Bayes                  :  ' + repr(accuracyNB).replace(p,c) + ' %')\n",
    "print ('Árboles de Decisión                    :  ' + repr(accuracyAD).replace(p,c) + ' %')\n",
    "print ('Random Forest                          :  ' + repr(accuracyRF).replace(p,c) + ' %')\n",
    "#print ('Redes Neuronales (Pybrain)             :  ' + repr(100 - errorRN).replace(p,c) + ' %')\n",
    "print ()\n",
    "#print ('_______________________')\n",
    "#print ()\n",
    "#print ('PORCENTAJES DE ACIERTO2 (con acercamiento):')\n",
    "#print ()\n",
    "#print ('KNN con K vecinos más cercanos (K = 15):  ' + repr(accuracy2KNN).replace(p,c) + ' %')\n",
    "#print ('SVM con Kernel polinomial Grado 4      :  ' + repr(accuracy2POL).replace(p,c) + ' %')\n",
    "#print ('SVM con Kernel RBF                     :  ' + repr(accuracy2RBF).replace(p,c) + ' %')\n",
    "#print ('SVM - SVC No Lineal                    :  ' + repr(accuracy2NL).replace(p,c) + ' %')\n",
    "#print ('SVM - SVC Lineal                       :  ' + repr(accuracy2LN).replace(p,c) + ' %')\n",
    "#print ('SVM - SVC Naïve Bayes                  :  ' + repr(accuracy2NB).replace(p,c) + ' %')\n",
    "#print ('Árboles de Decisión                    :  ' + repr(accuracy2AD).replace(p,c) + ' %')\n",
    "#print ('Random Forest                          :  ' + repr(accuracy2RF).replace(p,c) + ' %')\n",
    "#print ('Redes Neuronales (Pybrain)             :  ' + repr(100 - errorRN).replace(p,c) + ' %')\n",
    "print ()\n",
    "print ('_______________________')\n",
    "print ()\n",
    "print ('PORCENTAJES DE ACIERTO3 (Diferencia con Error2 - con acercamiento):')\n",
    "print ()\n",
    "print ('KNN con K vecinos más cercanos         :  ' + repr(accuracy3KNN).replace(p,c) + ' %')\n",
    "#print ('SVM con Kernel polinomial Grado 4      :  ' + repr(accuracy3POL).replace(p,c) + ' %')\n",
    "print ('SVM con Kernel RBF                     :  ' + repr(accuracy3RBF).replace(p,c) + ' %')\n",
    "#print ('SVM - SVC No Lineal                    :  ' + repr(accuracy3NL).replace(p,c) + ' %')\n",
    "#print ('SVM - SVC Lineal                       :  ' + repr(accuracy3LN).replace(p,c) + ' %')\n",
    "#print ('SVM - SVC Naïve Bayes                  :  ' + repr(accuracy3NB).replace(p,c) + ' %')\n",
    "print ('Árboles de Decisión                    :  ' + repr(accuracy3AD).replace(p,c) + ' %')\n",
    "print ('Random Forest                          :  ' + repr(accuracy3RF).replace(p,c) + ' %')\n",
    "print ()\n",
    "#print ('_______________________')\n",
    "#print ()\n",
    "#print ('PORCENTAJES DE ERROR:')\n",
    "#print ()\n",
    "#print ('KNN con K vecinos más cercanos (K = 15):  ' + repr(errorKNN).replace(p,c) + ' %')\n",
    "#print ('SVM con Kernel polinomial Grado 4      :  ' + repr(errorPOL).replace(p,c) + ' %')\n",
    "#print ('SVM con Kernel RBF                     :  ' + repr(errorRBF).replace(p,c) + ' %')\n",
    "#print ('SVM - SVC No Lineal                    :  ' + repr(errorNL).replace(p,c) + ' %')\n",
    "#print ('SVM - SVC Lineal                       :  ' + repr(errorLN).replace(p,c) + ' %')\n",
    "#print ('SVM - SVC Naïve Bayes                  :  ' + repr(errorNB).replace(p,c) + ' %')\n",
    "#print ('Árboles de Decisión                    :  ' + repr(errorAD).replace(p,c) + ' %')\n",
    "#print ('Random Forest                          :  ' + repr(errorRF).replace(p,c) + ' %')\n",
    "#print ('Redes Neuronales (Pybrain)             :  ' + repr(errorRN).replace(p,c) + ' %')\n",
    "print ()\n",
    "print ('_______________________')\n",
    "print ()\n",
    "print ('PORCENTAJES DE ERROR2 (con acercamiento):')\n",
    "print ()\n",
    "print ('KNN con K vecinos más cercanos         :  ' + repr(error2KNN).replace(p,c) + ' %')\n",
    "#print ('SVM con Kernel polinomial Grado 4      :  ' + repr(error2POL).replace(p,c) + ' %')\n",
    "print ('SVM con Kernel RBF                     :  ' + repr(error2RBF).replace(p,c) + ' %')\n",
    "#print ('SVM - SVC No Lineal                    :  ' + repr(error2NL).replace(p,c) + ' %')\n",
    "#print ('SVM - SVC Lineal                       :  ' + repr(error2LN).replace(p,c) + ' %')\n",
    "#print ('SVM - SVC Naïve Bayes                  :  ' + repr(error2NB).replace(p,c) + ' %')\n",
    "print ('Árboles de Decisión                    :  ' + repr(error2AD).replace(p,c) + ' %')\n",
    "print ('Random Forest                          :  ' + repr(error2RF).replace(p,c) + ' %')\n",
    "#print ('Redes Neuronales (Pybrain)             :  ' + repr(errorRN).replace(p,c))\n",
    "print ()\n",
    "print ('_______________________')\n",
    "print ()"
   ]
  }
 ],
 "metadata": {
  "kernelspec": {
   "display_name": "Python 3",
   "language": "python",
   "name": "python3"
  },
  "language_info": {
   "codemirror_mode": {
    "name": "ipython",
    "version": 3
   },
   "file_extension": ".py",
   "mimetype": "text/x-python",
   "name": "python",
   "nbconvert_exporter": "python",
   "pygments_lexer": "ipython3",
   "version": "3.7.7"
  }
 },
 "nbformat": 4,
 "nbformat_minor": 1
}

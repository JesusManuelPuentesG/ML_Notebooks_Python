{
 "cells": [
  {
   "cell_type": "markdown",
   "metadata": {},
   "source": [
    "\n",
    "# Métodos SVM - SVC - Kernels Lineal, No Lineal y Naive Bayes (GaussianNB)\n",
    "\n",
    "*@autor: Jesús Manuel Puentes Gutiérrez*\n",
    "\n",
    "*Universidad de Alcalá*\n",
    "______________________________________________\n",
    "\n",
    "\n",
    "En este cuaderno vamos a ejecutar 3 métodos con los mismos datos aleatorios seleccionados, de modo que podamos comparar la eficiencia de estos algoritmos.\n",
    "\n",
    "En el caso del **kernel No Lineal** utiliza el *kernel No Lineal* de *sklearn* con los parámetros por defecto, es decir, un *kernel RBF* con grado 3 y valor automático de gamma. Se utiliza la librería *SVC()* con una estrategia multi-clase de *one-against-one*.\n",
    "\n",
    "El **kernel Lineal** utiliza la librería *LinearSVC* que implementa una estrategia multi-clase de *one-vs-the-rest*. La fórmula matemática que utiliza es una función lineal:\n",
    "\n",
    "$$(x, x')$$\n",
    "\n",
    "El algoritmo utilizado con el último método, **Naive Bayes (Gaussian NB)**, asume que las variables o características son independientes dada la clase o salida.\n",
    "\n",
    "\n",
    "______________________________________________\n",
    "\n"
   ]
  },
  {
   "cell_type": "code",
   "execution_count": 1,
   "metadata": {
    "collapsed": true
   },
   "outputs": [],
   "source": [
    "import csv\n",
    "import random\n",
    "import math\n",
    "import operator\n",
    "\n",
    "from sklearn import svm\n",
    "from sklearn.svm import SVC\n",
    "from sklearn.naive_bayes import GaussianNB"
   ]
  },
  {
   "cell_type": "markdown",
   "metadata": {},
   "source": [
    "#### Función loadDataset\n",
    "Con esta función seleccionaremos los datos de entrada de forma aleatoria"
   ]
  },
  {
   "cell_type": "code",
   "execution_count": 2,
   "metadata": {
    "collapsed": true
   },
   "outputs": [],
   "source": [
    "def loadDataset(filename, split, trainingSet=[] , testSet=[]):\n",
    "\twith open(filename) as csvfile:\n",
    "\t    lines = csv.reader(csvfile)\n",
    "\t    dataset = list(lines)\n",
    "\t    for x in range(len(dataset)-1):\n",
    "\t        for y in range(10):\n",
    "\t            dataset[x][y] = float(dataset[x][y])\n",
    "\t        if random.random() < split:\n",
    "\t            trainingSet.append(dataset[x])\n",
    "\t        else:\n",
    "\t            testSet.append(dataset[x])"
   ]
  },
  {
   "cell_type": "markdown",
   "metadata": {},
   "source": [
    "#### Función getAccuracy\n",
    "Con esta función obtenemos la precisión con la que se realizan las predicciones mediante los datos de prueba seleccionados"
   ]
  },
  {
   "cell_type": "code",
   "execution_count": 3,
   "metadata": {
    "collapsed": true
   },
   "outputs": [],
   "source": [
    "def getAccuracy(testSet, predictions):\n",
    "\tcorrect = 0\n",
    "\tfor x in range(len(testSet)):\n",
    "\t\tif testSet[x][-1] == predictions[x]:\n",
    "\t\t\tcorrect += 1\n",
    "\treturn (correct/float(len(testSet))) * 100.0"
   ]
  },
  {
   "cell_type": "markdown",
   "metadata": {},
   "source": [
    "\n",
    "### Programa principal\n",
    "\n",
    "Preparamos los datos y los cargamos de nuestro dataset preparado en un archivo tipo *csv*.\n",
    "\n",
    "Seleccionamos un **67%** de los datos para entrenamiento y el resto para prueba\n",
    "\n",
    "\n",
    "\n"
   ]
  },
  {
   "cell_type": "code",
   "execution_count": 4,
   "metadata": {
    "collapsed": true
   },
   "outputs": [],
   "source": [
    "trainingSet=[]\n",
    "testSet=[]\n",
    "split = 0.67\n",
    "\n",
    "# En Windows\n",
    "# loadDataset(r'C:\\Users\\Chus\\Google Drive\\DOCTORADO\\DataSet\\Data set CAR PSQ H12O\\cmbd10.csv', split, trainingSet, testSet)\n",
    "\n",
    "# En Mac\n",
    "loadDataset('/Users/shuli/Desktop/Universidad de Alcalá/DOCTORADO/DataSet/Data set CAR PSQ H12O/cmbd10.csv', split, trainingSet, testSet)"
   ]
  },
  {
   "cell_type": "markdown",
   "metadata": {},
   "source": [
    "Mostramos como se han distribuido los datos de entrenamiento y los de prueba"
   ]
  },
  {
   "cell_type": "code",
   "execution_count": 5,
   "metadata": {},
   "outputs": [
    {
     "name": "stdout",
     "output_type": "stream",
     "text": [
      "Train set: 42775\n",
      "Test set: 20979\n"
     ]
    }
   ],
   "source": [
    "print ('Train set: ' + repr(len(trainingSet)))\n",
    "print ('Test set: ' + repr(len(testSet)))"
   ]
  },
  {
   "cell_type": "markdown",
   "metadata": {},
   "source": [
    "Se eligen y preparan los datos que se van a usar como entrenamiento:\n",
    "\n",
    "- Se selecciona como parte **X** (características del dataset) todas las variables menos la última\n",
    "- Se selecciona como parte **y** (clases del dataset) la última variable del dataset, que es la variable resultado"
   ]
  },
  {
   "cell_type": "code",
   "execution_count": 6,
   "metadata": {
    "collapsed": true
   },
   "outputs": [],
   "source": [
    "X = []\n",
    "y = []\n",
    "\n",
    "for x in range(len(trainingSet)):\n",
    "    X.append(trainingSet[x][:-1])\n",
    "    \n",
    "for x in range(len(trainingSet)):\n",
    "    y.append(trainingSet[x][-1])"
   ]
  },
  {
   "cell_type": "markdown",
   "metadata": {},
   "source": [
    "Se eligen y preparan los datos que se van a usar como pruebas:\n",
    "\n",
    "- Se selecciona como parte **X_test** (características del dataset) todas las variables menos la última\n",
    "- Se selecciona como parte **y_test** (clases del dataset) la última variable del dataset. Esta variable contendrá los valores reales que deberán compararse con la variable predicha para ver su porcentaje de acierto"
   ]
  },
  {
   "cell_type": "code",
   "execution_count": 7,
   "metadata": {
    "collapsed": true
   },
   "outputs": [],
   "source": [
    "X_test = []\n",
    "y_test = []\n",
    "\n",
    "for x in range(len(testSet)):\n",
    "    X_test.append(testSet[x][:-1])\n",
    "\n",
    "for x in range(len(testSet)):\n",
    "    y_test.append(testSet[x][-1])"
   ]
  },
  {
   "cell_type": "markdown",
   "metadata": {},
   "source": [
    "### Kernel No Lineal"
   ]
  },
  {
   "cell_type": "markdown",
   "metadata": {},
   "source": [
    "Elegimos el **kernel No Lineal** y lo entrenamos  -- Tiempo de ejecución elevado"
   ]
  },
  {
   "cell_type": "code",
   "execution_count": 8,
   "metadata": {},
   "outputs": [
    {
     "data": {
      "text/plain": [
       "SVC(C=1.0, cache_size=200, class_weight=None, coef0=0.0,\n",
       "  decision_function_shape=None, degree=3, gamma='auto', kernel='rbf',\n",
       "  max_iter=-1, probability=False, random_state=None, shrinking=True,\n",
       "  tol=0.001, verbose=False)"
      ]
     },
     "execution_count": 8,
     "metadata": {},
     "output_type": "execute_result"
    }
   ],
   "source": [
    "clf=SVC()\n",
    "\n",
    "clf.fit(X,y)"
   ]
  },
  {
   "cell_type": "markdown",
   "metadata": {},
   "source": [
    "A continuación se predice el resultado con el algoritmo que hemos entrenado"
   ]
  },
  {
   "cell_type": "code",
   "execution_count": 9,
   "metadata": {
    "collapsed": true
   },
   "outputs": [],
   "source": [
    "y_predicted = []\n",
    "\n",
    "y_predicted = clf.predict(X_test)"
   ]
  },
  {
   "cell_type": "markdown",
   "metadata": {},
   "source": [
    "### Resultados"
   ]
  },
  {
   "cell_type": "markdown",
   "metadata": {},
   "source": [
    "Se comparan los resultados reales (*y_test*) con los que hemos predicho y se muestra la precisión real del algoritmo "
   ]
  },
  {
   "cell_type": "code",
   "execution_count": 10,
   "metadata": {},
   "outputs": [
    {
     "name": "stdout",
     "output_type": "stream",
     "text": [
      "Accuracy: 85.86681920015253%\n"
     ]
    }
   ],
   "source": [
    "accuracy = getAccuracy(y_test, y_predicted)\n",
    "\n",
    "print('Accuracy: ' + repr(accuracy) + '%')"
   ]
  },
  {
   "cell_type": "markdown",
   "metadata": {},
   "source": [
    "### Kernel Lineal"
   ]
  },
  {
   "cell_type": "markdown",
   "metadata": {},
   "source": [
    "Elegimos el **kernel Lineal** y lo entrenamos"
   ]
  },
  {
   "cell_type": "code",
   "execution_count": 11,
   "metadata": {},
   "outputs": [
    {
     "data": {
      "text/plain": [
       "LinearSVC(C=1.0, class_weight=None, dual=True, fit_intercept=True,\n",
       "     intercept_scaling=1, loss='squared_hinge', max_iter=1000,\n",
       "     multi_class='ovr', penalty='l2', random_state=None, tol=0.0001,\n",
       "     verbose=0)"
      ]
     },
     "execution_count": 11,
     "metadata": {},
     "output_type": "execute_result"
    }
   ],
   "source": [
    "lin_clf = svm.LinearSVC()\n",
    "\n",
    "lin_clf.fit(X,y)"
   ]
  },
  {
   "cell_type": "markdown",
   "metadata": {},
   "source": [
    "A continuación se predice el resultado con el algoritmo que hemos entrenado"
   ]
  },
  {
   "cell_type": "code",
   "execution_count": 12,
   "metadata": {
    "collapsed": true
   },
   "outputs": [],
   "source": [
    "y_predicted = []\n",
    "\n",
    "y_predicted = lin_clf.predict(X_test)"
   ]
  },
  {
   "cell_type": "markdown",
   "metadata": {},
   "source": [
    "### Resultados"
   ]
  },
  {
   "cell_type": "markdown",
   "metadata": {},
   "source": [
    "Se comparan los resultados reales (*y_test*) con los que hemos predicho y se muestra la precisión real del algoritmo "
   ]
  },
  {
   "cell_type": "code",
   "execution_count": 13,
   "metadata": {},
   "outputs": [
    {
     "name": "stdout",
     "output_type": "stream",
     "text": [
      "Accuracy: 85.77625244291912%\n"
     ]
    }
   ],
   "source": [
    "accuracy = getAccuracy(y_test, y_predicted)\n",
    "\n",
    "print('Accuracy: ' + repr(accuracy) + '%')"
   ]
  },
  {
   "cell_type": "markdown",
   "metadata": {},
   "source": [
    "### Kernel Naive Bayes"
   ]
  },
  {
   "cell_type": "markdown",
   "metadata": {},
   "source": [
    "Elegimos el **kernel Naive Bayes** y lo entrenamos"
   ]
  },
  {
   "cell_type": "code",
   "execution_count": 14,
   "metadata": {},
   "outputs": [
    {
     "data": {
      "text/plain": [
       "GaussianNB()"
      ]
     },
     "execution_count": 14,
     "metadata": {},
     "output_type": "execute_result"
    }
   ],
   "source": [
    "gnb = GaussianNB()\n",
    "\n",
    "gnb.fit(X,y)"
   ]
  },
  {
   "cell_type": "markdown",
   "metadata": {},
   "source": [
    "A continuación se predice el resultado con el algoritmo que hemos entrenado"
   ]
  },
  {
   "cell_type": "code",
   "execution_count": 15,
   "metadata": {
    "collapsed": true
   },
   "outputs": [],
   "source": [
    "y_predicted = []\n",
    "\n",
    "y_predicted = gnb.predict(X_test)"
   ]
  },
  {
   "cell_type": "markdown",
   "metadata": {},
   "source": [
    "### Resultados"
   ]
  },
  {
   "cell_type": "markdown",
   "metadata": {},
   "source": [
    "Se comparan los resultados reales (*y_test*) con los que hemos predicho y se muestra la precisión real del algoritmo "
   ]
  },
  {
   "cell_type": "code",
   "execution_count": 16,
   "metadata": {},
   "outputs": [
    {
     "name": "stdout",
     "output_type": "stream",
     "text": [
      "Accuracy: 85.7381190714524%\n"
     ]
    }
   ],
   "source": [
    "accuracy = getAccuracy(y_test, y_predicted)\n",
    "\n",
    "print('Accuracy: ' + repr(accuracy) + '%')"
   ]
  }
 ],
 "metadata": {
  "kernelspec": {
   "display_name": "Python 3",
   "language": "python",
   "name": "python3"
  },
  "language_info": {
   "codemirror_mode": {
    "name": "ipython",
    "version": 3
   },
   "file_extension": ".py",
   "mimetype": "text/x-python",
   "name": "python",
   "nbconvert_exporter": "python",
   "pygments_lexer": "ipython3",
   "version": "3.7.7"
  }
 },
 "nbformat": 4,
 "nbformat_minor": 1
}
